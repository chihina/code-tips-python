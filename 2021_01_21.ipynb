{
  "nbformat": 4,
  "nbformat_minor": 0,
  "metadata": {
    "colab": {
      "name": "2021_01_21.ipynb",
      "provenance": [],
      "collapsed_sections": [],
      "authorship_tag": "ABX9TyOGYG2x1TpIop5yU2VhiC8b",
      "include_colab_link": true
    },
    "kernelspec": {
      "name": "python3",
      "display_name": "Python 3"
    }
  },
  "cells": [
    {
      "cell_type": "markdown",
      "metadata": {
        "id": "view-in-github",
        "colab_type": "text"
      },
      "source": [
        "<a href=\"https://colab.research.google.com/github/chihina/code-tips-python/blob/master/2021_01_21.ipynb\" target=\"_parent\"><img src=\"https://colab.research.google.com/assets/colab-badge.svg\" alt=\"Open In Colab\"/></a>"
      ]
    },
    {
      "cell_type": "markdown",
      "metadata": {
        "id": "__kjBa15jdEf"
      },
      "source": [
        "# What is about Namedtuple ?\n",
        "\n",
        "References  \n",
        "  \n",
        "[1] Writing Clean Python With Namedtuples (https://dbader.org/blog/writing-clean-python-with-namedtuples)  \n",
        "\n",
        "[2] typing — Support for type hints  (https://docs.python.org/3/library/typing.html)  "
      ]
    },
    {
      "cell_type": "markdown",
      "metadata": {
        "id": "EKYWqbrajttL"
      },
      "source": [
        "In this notebook, I checked structure about Namedtuple in python."
      ]
    },
    {
      "cell_type": "markdown",
      "metadata": {
        "id": "0Ik7KH9OkqPl"
      },
      "source": [
        "# Plain tuple in python\n",
        "It has two problems.\n",
        "\n",
        "*   Cannot give names to individual properties stored in a tuple. \n",
        "*   It’s hard to ensure that two tuples have the same number of fields.\n",
        "\n"
      ]
    },
    {
      "cell_type": "code",
      "metadata": {
        "colab": {
          "base_uri": "https://localhost:8080/"
        },
        "id": "KLrCP4Qpjarj",
        "outputId": "722ccf58-8626-4807-a7d7-7d954e300caf"
      },
      "source": [
        "tup = (12, 100)\n",
        "print(tup)\n",
        "print(tup[0])\n",
        "print(tup[1])\n",
        "\n",
        "# tuple is immutable object so that we cannot change contents.  \n",
        "# tup[2] = 23"
      ],
      "execution_count": 24,
      "outputs": [
        {
          "output_type": "stream",
          "text": [
            "(12, 100)\n",
            "12\n",
            "100\n"
          ],
          "name": "stdout"
        }
      ]
    },
    {
      "cell_type": "markdown",
      "metadata": {
        "id": "QgRCsZjFlCNl"
      },
      "source": [
        "# Namedtuple in python part1\n",
        "We can access tuple value by using name or index.  \n",
        "Ofcause it is also immutable like plain tuple."
      ]
    },
    {
      "cell_type": "code",
      "metadata": {
        "colab": {
          "base_uri": "https://localhost:8080/"
        },
        "id": "G4Jb-lz3l9Cn",
        "outputId": "98a5f838-b2f4-4fe1-f24d-67a2dafef703"
      },
      "source": [
        "from collections import namedtuple\n",
        "TOYOTA = namedtuple(\"TOYOTA\", [\"TTI\", \"TTIC\"])\n",
        "\n",
        "my_toyota = TOYOTA(12, 100)\n",
        "print(my_toyota.TTI)\n",
        "print(my_toyota.TTIC)\n",
        "\n",
        "print(my_toyota[0])\n",
        "print(my_toyota[1])\n",
        "\n",
        "# Ofcause it is also immutable like plain tuple\n",
        "# my_toyota.TTI = 13"
      ],
      "execution_count": 26,
      "outputs": [
        {
          "output_type": "stream",
          "text": [
            "12\n",
            "100\n",
            "12\n",
            "100\n"
          ],
          "name": "stdout"
        }
      ]
    },
    {
      "cell_type": "markdown",
      "metadata": {
        "id": "ldGrrkcRpI10"
      },
      "source": [
        "# Namedtuple in python part2\n",
        "We can define class which is inheritance of NamedTuple.  \n",
        "In this method, we can type annotation.  "
      ]
    },
    {
      "cell_type": "code",
      "metadata": {
        "colab": {
          "base_uri": "https://localhost:8080/"
        },
        "id": "SH9vMWznpI9H",
        "outputId": "32d9a31e-9c33-4595-db96-d622332135f1"
      },
      "source": [
        "from typing import NamedTuple\n",
        "\n",
        "class TOYOTA(NamedTuple):\n",
        "    TTI: int\n",
        "    TTIC: int\n",
        "\n",
        "my_toyota = TOYOTA(12, 100)\n",
        "print(my_toyota.TTI)\n",
        "print(my_toyota.TTIC)"
      ],
      "execution_count": 20,
      "outputs": [
        {
          "output_type": "stream",
          "text": [
            "12\n",
            "100\n"
          ],
          "name": "stdout"
        }
      ]
    }
  ]
}