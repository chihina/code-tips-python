{
  "nbformat": 4,
  "nbformat_minor": 0,
  "metadata": {
    "colab": {
      "name": "2021_01_11.ipynb",
      "provenance": [],
      "collapsed_sections": [],
      "authorship_tag": "ABX9TyO8nmcNk/VJJ4kTpfJZaASk",
      "include_colab_link": true
    },
    "kernelspec": {
      "name": "python3",
      "display_name": "Python 3"
    }
  },
  "cells": [
    {
      "cell_type": "markdown",
      "metadata": {
        "id": "view-in-github",
        "colab_type": "text"
      },
      "source": [
        "<a href=\"https://colab.research.google.com/github/chihina/code-tips-python/blob/master/2021_01_11.ipynb\" target=\"_parent\"><img src=\"https://colab.research.google.com/assets/colab-badge.svg\" alt=\"Open In Colab\"/></a>"
      ]
    },
    {
      "cell_type": "markdown",
      "metadata": {
        "id": "XGkBBAC7xhBl"
      },
      "source": [
        "# Type annotation"
      ]
    },
    {
      "cell_type": "markdown",
      "metadata": {
        "id": "xvcaEXcBycCi"
      },
      "source": [
        "### Implementation of no type annotation"
      ]
    },
    {
      "cell_type": "code",
      "metadata": {
        "id": "sdrwmL6qxcwP"
      },
      "source": [
        "def multify_two(input_num):\r\n",
        "  return input_num * 2"
      ],
      "execution_count": 6,
      "outputs": []
    },
    {
      "cell_type": "markdown",
      "metadata": {
        "id": "wE4gq6Gnyh9C"
      },
      "source": [
        "### Implementation of type annotation  \r\n",
        "[input_num: int] means that argument value is int type  \r\n",
        "[-> int] means that return value is int type"
      ]
    },
    {
      "cell_type": "code",
      "metadata": {
        "id": "av8Rx0J6ypSL"
      },
      "source": [
        "def multify_two_annotation(input_num: int) -> int:\r\n",
        "  return input_num * 2"
      ],
      "execution_count": 5,
      "outputs": []
    },
    {
      "cell_type": "markdown",
      "metadata": {
        "id": "kQ9OupqWyyQU"
      },
      "source": [
        "#### Test case 1"
      ]
    },
    {
      "cell_type": "code",
      "metadata": {
        "colab": {
          "base_uri": "https://localhost:8080/"
        },
        "id": "4rajlJ1DyyA0",
        "outputId": "88e4708e-0fb0-4412-befa-07b94f2daee9"
      },
      "source": [
        "input_num = 3\r\n",
        "print(multify_two(input_num))\r\n",
        "print(multify_two_annotation(input_num))"
      ],
      "execution_count": 7,
      "outputs": [
        {
          "output_type": "stream",
          "text": [
            "6\n",
            "6\n"
          ],
          "name": "stdout"
        }
      ]
    },
    {
      "cell_type": "markdown",
      "metadata": {
        "id": "VIl1njgdzDFu"
      },
      "source": [
        "Test case 2"
      ]
    },
    {
      "cell_type": "code",
      "metadata": {
        "colab": {
          "base_uri": "https://localhost:8080/"
        },
        "id": "cD6EspDmzJc7",
        "outputId": "692c12f8-1618-4cd0-ea02-ee8ee395a788"
      },
      "source": [
        "input_num = \"3\"\r\n",
        "print(multify_two(input_num))\r\n",
        "print(multify_two_annotation(input_num))"
      ],
      "execution_count": 9,
      "outputs": [
        {
          "output_type": "stream",
          "text": [
            "33\n",
            "33\n"
          ],
          "name": "stdout"
        }
      ]
    }
  ]
}