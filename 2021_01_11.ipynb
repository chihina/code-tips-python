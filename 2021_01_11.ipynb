{
  "nbformat": 4,
  "nbformat_minor": 0,
  "metadata": {
    "colab": {
      "name": "2021_01_11.ipynb",
      "provenance": [],
      "collapsed_sections": [
        "xvcaEXcBycCi"
      ],
      "authorship_tag": "ABX9TyMzPPjrXK1qUOnUEXDcsKN+",
      "include_colab_link": true
    },
    "kernelspec": {
      "name": "python3",
      "display_name": "Python 3"
    }
  },
  "cells": [
    {
      "cell_type": "markdown",
      "metadata": {
        "id": "view-in-github",
        "colab_type": "text"
      },
      "source": [
        "<a href=\"https://colab.research.google.com/github/chihina/code-tips-python/blob/master/2021_01_11.ipynb\" target=\"_parent\"><img src=\"https://colab.research.google.com/assets/colab-badge.svg\" alt=\"Open In Colab\"/></a>"
      ]
    },
    {
      "cell_type": "markdown",
      "metadata": {
        "id": "XGkBBAC7xhBl"
      },
      "source": [
        "# Type annotation [3.6～]"
      ]
    },
    {
      "cell_type": "markdown",
      "metadata": {
        "id": "xvcaEXcBycCi"
      },
      "source": [
        "## Implementation of no type annotation"
      ]
    },
    {
      "cell_type": "code",
      "metadata": {
        "id": "sdrwmL6qxcwP"
      },
      "source": [
        "def multify_two(input_num):\r\n",
        "  return input_num * 2"
      ],
      "execution_count": 6,
      "outputs": []
    },
    {
      "cell_type": "markdown",
      "metadata": {
        "id": "wE4gq6Gnyh9C"
      },
      "source": [
        "## Implementation of type annotation  \r\n",
        "[input_num: int] means that argument value is int type  \r\n",
        "[-> int] means that return value is int type"
      ]
    },
    {
      "cell_type": "code",
      "metadata": {
        "id": "av8Rx0J6ypSL"
      },
      "source": [
        "def multify_two_annotation(input_num: int) -> int:\r\n",
        "  return input_num * 2"
      ],
      "execution_count": 5,
      "outputs": []
    },
    {
      "cell_type": "markdown",
      "metadata": {
        "id": "BkV2FYBoAAox"
      },
      "source": [
        "## dataclass [3.7～]"
      ]
    },
    {
      "cell_type": "code",
      "metadata": {
        "colab": {
          "base_uri": "https://localhost:8080/"
        },
        "id": "KwlN6J83_4-Q",
        "outputId": "d70d43bb-ec79-440a-c782-b60805e1ee6b"
      },
      "source": [
        "from dataclasses import dataclass\r\n",
        "\r\n",
        "@dataclass\r\n",
        "class Hoge:\r\n",
        "    hoge: str\r\n",
        "    fuga: int\r\n",
        "    piyo: bool\r\n",
        "\r\n",
        "hoge = Hoge(\"hoge\", 4649, False)\r\n",
        "print(hoge)   \r\n",
        "\r\n",
        "# previous methods\r\n",
        "class Hoge:\r\n",
        "    def __init__(self, hoge: str, fuga: int, piyo: bool):\r\n",
        "        self.hoge = hoge\r\n",
        "        self.fuga = fuga\r\n",
        "        self.piyo = piyo\r\n",
        "\r\n",
        "hoge = Hoge(\"hoge\", 4649, False)\r\n",
        "print(hoge)   "
      ],
      "execution_count": 18,
      "outputs": [
        {
          "output_type": "stream",
          "text": [
            "Hoge(hoge='hoge', fuga=4649, piyo=False)\n",
            "<__main__.Hoge object at 0x7f1bac3e4908>\n"
          ],
          "name": "stdout"
        }
      ]
    },
    {
      "cell_type": "markdown",
      "metadata": {
        "id": "Ng_UdypYA-e8"
      },
      "source": [
        "## Substitution formula [3.8～]"
      ]
    },
    {
      "cell_type": "code",
      "metadata": {
        "colab": {
          "base_uri": "https://localhost:8080/",
          "height": 136
        },
        "id": "59MxIrTtCBdT",
        "outputId": "8c610e12-6627-4a2a-83db-83215dc38f8b"
      },
      "source": [
        "def judge_symbol(input_num: int) -> bool:\r\n",
        "  return input_num >= 0\r\n",
        "\r\n",
        "input_num = 4\r\n",
        "if (hg := judge_symbol(input_num):\r\n",
        "    print(input_num)\r\n",
        "\r\n",
        " input_num = 2\r\n",
        "if (hg := judge_symbol(input_num):\r\n",
        "    print(input_num) "
      ],
      "execution_count": 19,
      "outputs": [
        {
          "output_type": "error",
          "ename": "SyntaxError",
          "evalue": "ignored",
          "traceback": [
            "\u001b[0;36m  File \u001b[0;32m\"<ipython-input-19-03578a1f110b>\"\u001b[0;36m, line \u001b[0;32m5\u001b[0m\n\u001b[0;31m    if (hg := judge_symbol(input_num):\u001b[0m\n\u001b[0m           ^\u001b[0m\n\u001b[0;31mSyntaxError\u001b[0m\u001b[0;31m:\u001b[0m invalid syntax\n"
          ]
        }
      ]
    }
  ]
}